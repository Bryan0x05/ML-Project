{
 "cells": [
  {
   "cell_type": "code",
   "execution_count": 15,
   "id": "240f1281",
   "metadata": {},
   "outputs": [
    {
     "name": "stdout",
     "output_type": "stream",
     "text": [
      "i\n"
     ]
    }
   ],
   "source": [
    "#TODO: Added libaries and tools\n",
    "import numpy as np # for handling numbers\n",
    "import pandas as pd # for handling spreadsheet data\n",
    "import os # to retrive data-set files\n",
    "import cv2# computer vision for extracting features from images\n",
    "import PIL\n",
    "import pickle \n",
    "from sklearn import metrics\n",
    "from sklearn.metrics import accuracy_score\n",
    "print('i')\n",
    "\n"
   ]
  },
  {
   "cell_type": "code",
   "execution_count": 3,
   "id": "69036b7b",
   "metadata": {},
   "outputs": [],
   "source": [
    "from sklearn.linear_model import LinearRegression\n",
    "from sklearn.metrics import  r2_score\n"
   ]
  },
  {
   "cell_type": "code",
   "execution_count": 4,
   "id": "8a07b9fb",
   "metadata": {},
   "outputs": [],
   "source": [
    "##feature extraction"
   ]
  },
  {
   "cell_type": "code",
   "execution_count": 5,
   "id": "e6fab6a5",
   "metadata": {},
   "outputs": [
    {
     "data": {
      "text/html": [
       "<div>\n",
       "<style scoped>\n",
       "    .dataframe tbody tr th:only-of-type {\n",
       "        vertical-align: middle;\n",
       "    }\n",
       "\n",
       "    .dataframe tbody tr th {\n",
       "        vertical-align: top;\n",
       "    }\n",
       "\n",
       "    .dataframe thead th {\n",
       "        text-align: right;\n",
       "    }\n",
       "</style>\n",
       "<table border=\"1\" class=\"dataframe\">\n",
       "  <thead>\n",
       "    <tr style=\"text-align: right;\">\n",
       "      <th></th>\n",
       "      <th>image</th>\n",
       "      <th>label</th>\n",
       "      <th>features</th>\n",
       "    </tr>\n",
       "  </thead>\n",
       "  <tbody>\n",
       "    <tr>\n",
       "      <th>0</th>\n",
       "      <td>C:\\Users\\venka\\Downloads\\train\\REAL\\4000 (10).jpg</td>\n",
       "      <td>REAL</td>\n",
       "      <td>[146, 166, 124, 137, 142, 80, 218, 189, 84, 20...</td>\n",
       "    </tr>\n",
       "    <tr>\n",
       "      <th>1</th>\n",
       "      <td>C:\\Users\\venka\\Downloads\\train\\REAL\\4000 (2).jpg</td>\n",
       "      <td>REAL</td>\n",
       "      <td>[237, 218, 227, 219, 205, 211, 209, 202, 207, ...</td>\n",
       "    </tr>\n",
       "    <tr>\n",
       "      <th>2</th>\n",
       "      <td>C:\\Users\\venka\\Downloads\\train\\REAL\\4000 (3).jpg</td>\n",
       "      <td>REAL</td>\n",
       "      <td>[195, 174, 176, 193, 175, 176, 194, 176, 177, ...</td>\n",
       "    </tr>\n",
       "    <tr>\n",
       "      <th>3</th>\n",
       "      <td>C:\\Users\\venka\\Downloads\\train\\REAL\\4000 (4).jpg</td>\n",
       "      <td>REAL</td>\n",
       "      <td>[74, 102, 133, 0, 23, 53, 3, 20, 47, 35, 46, 6...</td>\n",
       "    </tr>\n",
       "    <tr>\n",
       "      <th>4</th>\n",
       "      <td>C:\\Users\\venka\\Downloads\\train\\REAL\\4000 (5).jpg</td>\n",
       "      <td>REAL</td>\n",
       "      <td>[181, 165, 152, 182, 166, 153, 183, 167, 154, ...</td>\n",
       "    </tr>\n",
       "    <tr>\n",
       "      <th>5</th>\n",
       "      <td>C:\\Users\\venka\\Downloads\\train\\REAL\\4000 (6).jpg</td>\n",
       "      <td>REAL</td>\n",
       "      <td>[56, 37, 29, 48, 31, 22, 81, 63, 56, 171, 158,...</td>\n",
       "    </tr>\n",
       "    <tr>\n",
       "      <th>6</th>\n",
       "      <td>C:\\Users\\venka\\Downloads\\train\\REAL\\4000 (7).jpg</td>\n",
       "      <td>REAL</td>\n",
       "      <td>[90, 92, 92, 86, 88, 88, 66, 67, 71, 86, 87, 9...</td>\n",
       "    </tr>\n",
       "    <tr>\n",
       "      <th>7</th>\n",
       "      <td>C:\\Users\\venka\\Downloads\\train\\REAL\\4000 (8).jpg</td>\n",
       "      <td>REAL</td>\n",
       "      <td>[160, 211, 207, 156, 207, 200, 178, 222, 216, ...</td>\n",
       "    </tr>\n",
       "    <tr>\n",
       "      <th>8</th>\n",
       "      <td>C:\\Users\\venka\\Downloads\\train\\REAL\\4000 (9).jpg</td>\n",
       "      <td>REAL</td>\n",
       "      <td>[110, 98, 98, 112, 100, 100, 115, 102, 100, 11...</td>\n",
       "    </tr>\n",
       "    <tr>\n",
       "      <th>9</th>\n",
       "      <td>C:\\Users\\venka\\Downloads\\train\\REAL\\4000.jpg</td>\n",
       "      <td>REAL</td>\n",
       "      <td>[252, 252, 255, 250, 253, 255, 243, 251, 255, ...</td>\n",
       "    </tr>\n",
       "  </tbody>\n",
       "</table>\n",
       "</div>"
      ],
      "text/plain": [
       "                                               image label  \\\n",
       "0  C:\\Users\\venka\\Downloads\\train\\REAL\\4000 (10).jpg  REAL   \n",
       "1   C:\\Users\\venka\\Downloads\\train\\REAL\\4000 (2).jpg  REAL   \n",
       "2   C:\\Users\\venka\\Downloads\\train\\REAL\\4000 (3).jpg  REAL   \n",
       "3   C:\\Users\\venka\\Downloads\\train\\REAL\\4000 (4).jpg  REAL   \n",
       "4   C:\\Users\\venka\\Downloads\\train\\REAL\\4000 (5).jpg  REAL   \n",
       "5   C:\\Users\\venka\\Downloads\\train\\REAL\\4000 (6).jpg  REAL   \n",
       "6   C:\\Users\\venka\\Downloads\\train\\REAL\\4000 (7).jpg  REAL   \n",
       "7   C:\\Users\\venka\\Downloads\\train\\REAL\\4000 (8).jpg  REAL   \n",
       "8   C:\\Users\\venka\\Downloads\\train\\REAL\\4000 (9).jpg  REAL   \n",
       "9       C:\\Users\\venka\\Downloads\\train\\REAL\\4000.jpg  REAL   \n",
       "\n",
       "                                            features  \n",
       "0  [146, 166, 124, 137, 142, 80, 218, 189, 84, 20...  \n",
       "1  [237, 218, 227, 219, 205, 211, 209, 202, 207, ...  \n",
       "2  [195, 174, 176, 193, 175, 176, 194, 176, 177, ...  \n",
       "3  [74, 102, 133, 0, 23, 53, 3, 20, 47, 35, 46, 6...  \n",
       "4  [181, 165, 152, 182, 166, 153, 183, 167, 154, ...  \n",
       "5  [56, 37, 29, 48, 31, 22, 81, 63, 56, 171, 158,...  \n",
       "6  [90, 92, 92, 86, 88, 88, 66, 67, 71, 86, 87, 9...  \n",
       "7  [160, 211, 207, 156, 207, 200, 178, 222, 216, ...  \n",
       "8  [110, 98, 98, 112, 100, 100, 115, 102, 100, 11...  \n",
       "9  [252, 252, 255, 250, 253, 255, 243, 251, 255, ...  "
      ]
     },
     "execution_count": 5,
     "metadata": {},
     "output_type": "execute_result"
    }
   ],
   "source": [
    "# function to load dataset into a data frame\n",
    "# Encaplsated in a function to restrict the scope of variables that will not be needed in\n",
    "# later code blocks.\n",
    "# gray scale flag, by default it's off\n",
    "# ResizeX and ResizeY, fills these to resize image to desired size, if either\n",
    "# is 0 it's assumed to be off\n",
    "def loadData(grayscale:bool = False, resizeX: int = 0, resizeY = 0):\n",
    "    # helper function to fill the data variables with data from images\n",
    "    def fillData(data: dict,dir: str, label:str):\n",
    "        # list of all files in dir\n",
    "        # these values are the image files\n",
    "        list = os.listdir(dir)\n",
    "        # append image paths and labels in data dictionary\n",
    "        for image in list:\n",
    "            absImagePath = os.path.join(dir,image)\n",
    "            data['image'].append(absImagePath)\n",
    "            data['label'].append(label)\n",
    "            fileImage = cv2.imread(absImagePath)\n",
    "            # image gray scale\n",
    "            if(grayscale == True):\n",
    "                fileImage = cv2.cvtColor(fileImage,cv2.COLOR_BGR2GRAY)\n",
    "            if(resizeX > 0 and resizeY > 0):\n",
    "                target_size = (resizeX,resizeY)\n",
    "                fileImage = cv2.resize(fileImage,target_size)\n",
    "            data['features'].append(fileImage.flatten())\n",
    "            \n",
    "    # dictionary to temporary house the data\n",
    "    # image = image path list, label = fake or real\n",
    "    trainData = {'image':[],'label':[], 'features':[]}\n",
    "    testData = {'image':[],'label':[], 'features':[]}\n",
    "   \n",
    "    # Read Train folder & Read test folder\n",
    "    # OS module used to ensure this works on all platforms that python runs on\n",
    "    currentDir = os.getcwd() # get's current directory to later append to image filepath for abs path\n",
    "    trainDirReal = os.path.join(currentDir,\"train\",'REAL') # abs file path to real class folder in training\n",
    "    trainDirFake = os.path.join(currentDir,'train','FAKE')\n",
    "    testDirReal = os.path.join(currentDir,\"test\",'REAL')\n",
    "    testDirFake = os.path.join(currentDir,\"test\",'FAKE')  \n",
    "\n",
    "\n",
    "    # helper function read file list from each folder and append abs path and labels\n",
    "    fillData(trainData,trainDirReal,'REAL')\n",
    "    fillData(trainData,trainDirFake,'FAKE')\n",
    "    fillData(testData,testDirReal,'REAL')\n",
    "    fillData(testData,testDirFake,'FAKE')\n",
    "    \n",
    "    #TODO: Feature extraction\n",
    "    \n",
    "    # converts from dictionary type to dataframe for ease of access and compadability with\n",
    "    # ML library function calls\n",
    "    return pd.DataFrame(trainData), pd.DataFrame(testData)\n",
    "# executes function, returning 2 dataframes containing train and test data of the calsses\n",
    "# Train and test data are seperated into different dataframes to enforce data hygiene \n",
    "trainData,testData = loadData()\n",
    "# test if data was loaded successfully by outputing first 10 entries\n",
    "trainData.head(10)"
   ]
  },
  {
   "cell_type": "code",
   "execution_count": 6,
   "id": "026e7654",
   "metadata": {},
   "outputs": [],
   "source": [
    "model = LinearRegression()\n"
   ]
  },
  {
   "cell_type": "code",
   "execution_count": 29,
   "id": "fade2fb3",
   "metadata": {},
   "outputs": [
    {
     "data": {
      "text/plain": [
       "numpy.ndarray"
      ]
     },
     "execution_count": 29,
     "metadata": {},
     "output_type": "execute_result"
    }
   ],
   "source": [
    "from sklearn.datasets import load_iris\n",
    "from sklearn.model_selection import train_test_split\n",
    "import matplotlib.pyplot as plt\n",
    "from sklearn.metrics import confusion_matrix\n",
    "import seaborn as sns\n",
    "X, y = load_iris(return_X_y=True)\n",
    "X_train, X_test, y_train, y_test = train_test_split(X, y, test_size=0.5, random_state=0)\n",
    "\n",
    "\n",
    "\n",
    "model.fit(X_train,y_train)\n",
    "\n",
    "type(X_train)\n"
   ]
  },
  {
   "cell_type": "code",
   "execution_count": 8,
   "id": "642a9452",
   "metadata": {},
   "outputs": [],
   "source": [
    "# Extract for training \n",
    "Y_train = np.asarray(trainData['label'].to_list())\n",
    "X_train = np.asarray(trainData['features'].to_list())[ :, 0]\n",
    "# Extract for test \n",
    "Y_test = np.asarray(testData['label'].to_list())\n",
    "X_test = np.asarray(testData['features'].to_list())[ :, 0]\n",
    "# Reshape X_train if it's a 1D array\n",
    "X_train = X_train.reshape(-1, 1)\n",
    "X_test = X_test.reshape(-1, 1)\n",
    "# Define a mapping dictionary\n",
    "# Define a mapping dictionary\n",
    "mapping = {'REAL': 1, 'FAKE': -1}\n",
    "\n",
    "# Apply mapping to convert string values to numeric values\n",
    "Y_train_encoded = np.array([mapping[label] for label in Y_train])\n",
    "Y_test_encoded = np.array([mapping[label] for label in Y_test])\n",
    "\n",
    "\n",
    "\n",
    "#Y_test = \n",
    "## Below is the placeholder for the Model\n",
    "# Create a model\n",
    "\n",
    "\n",
    "# Fit\n",
    "#Y_pred = model.fit(X_train, Y_train).predict(X_test)\n",
    "\n",
    "#_train\n",
    "#print(\"Number of mislabeled points out of a total %d points : %d\" % (X_test.shape[0], (Y_test != Y_pred).sum()))"
   ]
  },
  {
   "cell_type": "code",
   "execution_count": 16,
   "id": "ebe73b78",
   "metadata": {},
   "outputs": [
    {
     "data": {
      "text/plain": [
       "LinearRegression()"
      ]
     },
     "execution_count": 16,
     "metadata": {},
     "output_type": "execute_result"
    }
   ],
   "source": [
    "model = LinearRegression()\n",
    "model.fit(X_train, Y_train_encoded)"
   ]
  },
  {
   "cell_type": "code",
   "execution_count": 17,
   "id": "0bc93ded",
   "metadata": {},
   "outputs": [],
   "source": [
    "predicted = model.predict(X_test)"
   ]
  },
  {
   "cell_type": "code",
   "execution_count": 18,
   "id": "2dbc5929",
   "metadata": {},
   "outputs": [],
   "source": [
    "#R^2 VALUE\n"
   ]
  },
  {
   "cell_type": "code",
   "execution_count": 19,
   "id": "36a044af",
   "metadata": {},
   "outputs": [
    {
     "data": {
      "text/plain": [
       "0.05332213757949389"
      ]
     },
     "execution_count": 19,
     "metadata": {},
     "output_type": "execute_result"
    }
   ],
   "source": [
    "r2 = r2_score(Y_test_encoded, predicted)\n",
    "r2"
   ]
  },
  {
   "cell_type": "code",
   "execution_count": 20,
   "id": "bebceecc",
   "metadata": {},
   "outputs": [],
   "source": [
    "#LOGISTIC REGRESSION"
   ]
  },
  {
   "cell_type": "code",
   "execution_count": 22,
   "id": "1da98d17",
   "metadata": {},
   "outputs": [
    {
     "data": {
      "text/plain": [
       "LogisticRegression()"
      ]
     },
     "execution_count": 22,
     "metadata": {},
     "output_type": "execute_result"
    }
   ],
   "source": [
    "from sklearn.linear_model import LogisticRegression\n",
    "\n",
    "\n",
    "\n",
    "modell = LogisticRegression()\n",
    "modell.fit(X_train, Y_train_encoded)"
   ]
  },
  {
   "cell_type": "code",
   "execution_count": 23,
   "id": "2e230fec",
   "metadata": {},
   "outputs": [],
   "source": [
    "predictedd = modell.predict(X_test)\n"
   ]
  },
  {
   "cell_type": "code",
   "execution_count": 25,
   "id": "5f6cd86a",
   "metadata": {},
   "outputs": [],
   "source": [
    "accuracy = metrics.accuracy_score(Y_test_encoded, predictedd)"
   ]
  },
  {
   "cell_type": "code",
   "execution_count": 26,
   "id": "b8509589",
   "metadata": {},
   "outputs": [
    {
     "name": "stdout",
     "output_type": "stream",
     "text": [
      "0.5845\n"
     ]
    }
   ],
   "source": [
    "print(accuracy)"
   ]
  },
  {
   "cell_type": "code",
   "execution_count": 27,
   "id": "bb0a6059",
   "metadata": {},
   "outputs": [
    {
     "name": "stdout",
     "output_type": "stream",
     "text": [
      "Confusion Matrix:\n",
      "[[3099 1901]\n",
      " [2254 2746]]\n"
     ]
    }
   ],
   "source": [
    "# Confusion matrix\n",
    "conf_matrix = metrics.confusion_matrix(Y_test_encoded, predictedd)\n",
    "print(\"Confusion Matrix:\")\n",
    "print(conf_matrix)"
   ]
  },
  {
   "cell_type": "code",
   "execution_count": 30,
   "id": "5659efd1",
   "metadata": {},
   "outputs": [
    {
     "data": {
      "image/png": "[encoded data removed]",
      "text/plain": [
       "<Figure size 800x600 with 1 Axes>"
      ]
     },
     "metadata": {},
     "output_type": "display_data"
    }
   ],
   "source": [
    "plt.figure(figsize=(8, 6))\n",
    "sns.set(font_scale=1.4)\n",
    "sns.heatmap(conf_matrix, annot=True, fmt='g', cmap='Blues', cbar=False)\n",
    "plt.xlabel('Predicted labels')\n",
    "plt.ylabel('True labels')\n",
    "plt.title('Confusion Matrix')\n",
    "plt.show()"
   ]
  },
  {
   "cell_type": "code",
   "execution_count": null,
   "id": "67998fee",
   "metadata": {},
   "outputs": [],
   "source": []
  }
 ],
 "metadata": {
  "kernelspec": {
   "display_name": "Python 3 (ipykernel)",
   "language": "python",
   "name": "python3"
  },
  "language_info": {
   "codemirror_mode": {
    "name": "ipython",
    "version": 3
   },
   "file_extension": ".py",
   "mimetype": "text/x-python",
   "name": "python",
   "nbconvert_exporter": "python",
   "pygments_lexer": "ipython3",
   "version": "3.7.9"
  }
 },
 "nbformat": 4,
 "nbformat_minor": 5
}
