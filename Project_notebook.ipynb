{
 "cells": [
  {
   "cell_type": "markdown",
   "metadata": {},
   "source": [
    "# Libaries and Tools\n",
    "All libraries and tools loaded in one convivent code block to make the following code blocks plug and play(save for the feature extraction block)."
   ]
  },
  {
   "cell_type": "code",
   "execution_count": 2,
   "metadata": {},
   "outputs": [],
   "source": [
    "#TODO: Added libaries and tools\n",
    "import numpy as np # for handling numbers\n",
    "import pandas as pd # for handling spreadsheet data\n",
    "import os # to retrive data-set files\n",
    "import cv2 # computer vision for extracting features from images"
   ]
  },
  {
   "cell_type": "markdown",
   "metadata": {},
   "source": [
    "# Feature Extraction and Processing\n",
    "This puts the data in a pandas dataframe data type making it accessible for all models.\n",
    "The data will be stored in seperate train and test data sets. "
   ]
  },
  {
   "cell_type": "code",
   "execution_count": 3,
   "metadata": {},
   "outputs": [
    {
     "data": {
      "text/html": [
       "<div>\n",
       "<style scoped>\n",
       "    .dataframe tbody tr th:only-of-type {\n",
       "        vertical-align: middle;\n",
       "    }\n",
       "\n",
       "    .dataframe tbody tr th {\n",
       "        vertical-align: top;\n",
       "    }\n",
       "\n",
       "    .dataframe thead th {\n",
       "        text-align: right;\n",
       "    }\n",
       "</style>\n",
       "<table border=\"1\" class=\"dataframe\">\n",
       "  <thead>\n",
       "    <tr style=\"text-align: right;\">\n",
       "      <th></th>\n",
       "      <th>image</th>\n",
       "      <th>label</th>\n",
       "      <th>features</th>\n",
       "    </tr>\n",
       "  </thead>\n",
       "  <tbody>\n",
       "    <tr>\n",
       "      <th>0</th>\n",
       "      <td>c:\\Users\\HP\\Documents\\GitHub\\ML-Project\\train\\...</td>\n",
       "      <td>REAL</td>\n",
       "      <td>[151, 123, 161, 136, 143, 143, 137, 144, 145, ...</td>\n",
       "    </tr>\n",
       "    <tr>\n",
       "      <th>1</th>\n",
       "      <td>c:\\Users\\HP\\Documents\\GitHub\\ML-Project\\train\\...</td>\n",
       "      <td>REAL</td>\n",
       "      <td>[223, 208, 204, 216, 220, 207, 193, 189, 168, ...</td>\n",
       "    </tr>\n",
       "    <tr>\n",
       "      <th>2</th>\n",
       "      <td>c:\\Users\\HP\\Documents\\GitHub\\ML-Project\\train\\...</td>\n",
       "      <td>REAL</td>\n",
       "      <td>[177, 177, 178, 179, 179, 180, 181, 181, 183, ...</td>\n",
       "    </tr>\n",
       "    <tr>\n",
       "      <th>3</th>\n",
       "      <td>c:\\Users\\HP\\Documents\\GitHub\\ML-Project\\train\\...</td>\n",
       "      <td>REAL</td>\n",
       "      <td>[108, 29, 26, 51, 56, 54, 55, 85, 143, 151, 16...</td>\n",
       "    </tr>\n",
       "    <tr>\n",
       "      <th>4</th>\n",
       "      <td>c:\\Users\\HP\\Documents\\GitHub\\ML-Project\\train\\...</td>\n",
       "      <td>REAL</td>\n",
       "      <td>[163, 164, 165, 166, 166, 166, 166, 165, 166, ...</td>\n",
       "    </tr>\n",
       "    <tr>\n",
       "      <th>5</th>\n",
       "      <td>c:\\Users\\HP\\Documents\\GitHub\\ML-Project\\train\\...</td>\n",
       "      <td>REAL</td>\n",
       "      <td>[37, 30, 63, 157, 163, 167, 175, 175, 183, 186...</td>\n",
       "    </tr>\n",
       "    <tr>\n",
       "      <th>6</th>\n",
       "      <td>c:\\Users\\HP\\Documents\\GitHub\\ML-Project\\train\\...</td>\n",
       "      <td>REAL</td>\n",
       "      <td>[92, 88, 68, 88, 94, 108, 101, 121, 156, 172, ...</td>\n",
       "    </tr>\n",
       "    <tr>\n",
       "      <th>7</th>\n",
       "      <td>c:\\Users\\HP\\Documents\\GitHub\\ML-Project\\train\\...</td>\n",
       "      <td>REAL</td>\n",
       "      <td>[204, 199, 215, 225, 194, 162, 167, 188, 179, ...</td>\n",
       "    </tr>\n",
       "    <tr>\n",
       "      <th>8</th>\n",
       "      <td>c:\\Users\\HP\\Documents\\GitHub\\ML-Project\\train\\...</td>\n",
       "      <td>REAL</td>\n",
       "      <td>[99, 101, 103, 104, 107, 110, 109, 106, 111, 1...</td>\n",
       "    </tr>\n",
       "    <tr>\n",
       "      <th>9</th>\n",
       "      <td>c:\\Users\\HP\\Documents\\GitHub\\ML-Project\\train\\...</td>\n",
       "      <td>REAL</td>\n",
       "      <td>[253, 253, 251, 229, 194, 184, 194, 198, 199, ...</td>\n",
       "    </tr>\n",
       "  </tbody>\n",
       "</table>\n",
       "</div>"
      ],
      "text/plain": [
       "                                               image label  \\\n",
       "0  c:\\Users\\HP\\Documents\\GitHub\\ML-Project\\train\\...  REAL   \n",
       "1  c:\\Users\\HP\\Documents\\GitHub\\ML-Project\\train\\...  REAL   \n",
       "2  c:\\Users\\HP\\Documents\\GitHub\\ML-Project\\train\\...  REAL   \n",
       "3  c:\\Users\\HP\\Documents\\GitHub\\ML-Project\\train\\...  REAL   \n",
       "4  c:\\Users\\HP\\Documents\\GitHub\\ML-Project\\train\\...  REAL   \n",
       "5  c:\\Users\\HP\\Documents\\GitHub\\ML-Project\\train\\...  REAL   \n",
       "6  c:\\Users\\HP\\Documents\\GitHub\\ML-Project\\train\\...  REAL   \n",
       "7  c:\\Users\\HP\\Documents\\GitHub\\ML-Project\\train\\...  REAL   \n",
       "8  c:\\Users\\HP\\Documents\\GitHub\\ML-Project\\train\\...  REAL   \n",
       "9  c:\\Users\\HP\\Documents\\GitHub\\ML-Project\\train\\...  REAL   \n",
       "\n",
       "                                            features  \n",
       "0  [151, 123, 161, 136, 143, 143, 137, 144, 145, ...  \n",
       "1  [223, 208, 204, 216, 220, 207, 193, 189, 168, ...  \n",
       "2  [177, 177, 178, 179, 179, 180, 181, 181, 183, ...  \n",
       "3  [108, 29, 26, 51, 56, 54, 55, 85, 143, 151, 16...  \n",
       "4  [163, 164, 165, 166, 166, 166, 166, 165, 166, ...  \n",
       "5  [37, 30, 63, 157, 163, 167, 175, 175, 183, 186...  \n",
       "6  [92, 88, 68, 88, 94, 108, 101, 121, 156, 172, ...  \n",
       "7  [204, 199, 215, 225, 194, 162, 167, 188, 179, ...  \n",
       "8  [99, 101, 103, 104, 107, 110, 109, 106, 111, 1...  \n",
       "9  [253, 253, 251, 229, 194, 184, 194, 198, 199, ...  "
      ]
     },
     "execution_count": 3,
     "metadata": {},
     "output_type": "execute_result"
    }
   ],
   "source": [
    "# function to load dataset into a data frame\n",
    "# Encaplsated in a function to restrict the scope of variables that will not be needed in\n",
    "# later code blocks.\n",
    "# gray scale flag, by default it's off\n",
    "# ResizeX and ResizeY, fills these to resize image to desired size, if either\n",
    "# is 0 it's assumed to be off\n",
    "def loadData(grayscale:bool = False, resizeX: int = 0, resizeY = 0):\n",
    "    # helper function to fill the data variables with data from images\n",
    "    def fillData(data: dict,dir: str, label:str):\n",
    "        # list of all files in dir\n",
    "        # these values are the image files\n",
    "        list = os.listdir(dir)\n",
    "        # append image paths and labels in data dictionary\n",
    "        for image in list:\n",
    "            absImagePath = os.path.join(dir,image)\n",
    "            data['image'].append(absImagePath)\n",
    "            data['label'].append(label)\n",
    "            fileImage = cv2.imread(absImagePath)\n",
    "            # image gray scale\n",
    "            if(grayscale == True):\n",
    "                fileImage = cv2.cvtColor(fileImage,cv2.COLOR_BGR2GRAY)\n",
    "            if(resizeX > 0 and resizeY > 0):\n",
    "                target_size = (resizeX,resizeY)\n",
    "                fileImage = cv2.resize(fileImage,target_size)\n",
    "            data['features'].append(fileImage.flatten())\n",
    "            \n",
    "    # dictionary to temporary house the data\n",
    "    # image = image path list, label = fake or real\n",
    "    trainData = {'image':[],'label':[], 'features':[]}\n",
    "    testData = {'image':[],'label':[], 'features':[]}\n",
    "   \n",
    "    # Read Train folder & Read test folder\n",
    "    # OS module used to ensure this works on all platforms that python runs on\n",
    "    currentDir = os.getcwd() # get's current directory to later append to image filepath for abs path\n",
    "    trainDirReal = os.path.join(currentDir,\"train\",'REAL') # abs file path to real class folder in training\n",
    "    trainDirFake = os.path.join(currentDir,'train','FAKE')\n",
    "    testDirReal = os.path.join(currentDir,\"test\",'REAL')\n",
    "    testDirFake = os.path.join(currentDir,\"test\",'FAKE')  \n",
    "\n",
    "\n",
    "    # helper function read file list from each folder and append abs path and labels\n",
    "    fillData(trainData,trainDirReal,'REAL')\n",
    "    fillData(trainData,trainDirFake,'FAKE')\n",
    "    fillData(testData,testDirReal,'REAL')\n",
    "    fillData(testData,testDirFake,'FAKE')\n",
    "    \n",
    "    #TODO: Feature extraction\n",
    "    \n",
    "    # converts from dictionary type to dataframe for ease of access and compadability with\n",
    "    # ML library function calls\n",
    "    return pd.DataFrame(trainData), pd.DataFrame(testData)\n",
    "# executes function, returning 2 dataframes containing train and test data of the calsses\n",
    "# Train and test data are seperated into different dataframes to enforce data hygiene \n",
    "trainData,testData = loadData()\n",
    "# test if data was loaded successfully by outputing first 10 entries\n",
    "trainData.head(10)"
   ]
  },
  {
   "cell_type": "markdown",
   "metadata": {},
   "source": [
    "# Exploratory Analysis\n",
    "We can analysis the data set to justify the rationale of certains models. This can be down in the python code block below and even split across blocks."
   ]
  },
  {
   "cell_type": "code",
   "execution_count": 4,
   "metadata": {},
   "outputs": [],
   "source": [
    "# Exploratory Analysis"
   ]
  },
  {
   "cell_type": "markdown",
   "metadata": {},
   "source": [
    "# Models\n",
    "We segment models in different code blocks and clearly label them in markdown and even explain results."
   ]
  },
  {
   "cell_type": "markdown",
   "metadata": {},
   "source": [
    "## Sample Model 1 Header"
   ]
  },
  {
   "cell_type": "code",
   "execution_count": 5,
   "metadata": {},
   "outputs": [],
   "source": [
    "# model 1 code block"
   ]
  },
  {
   "cell_type": "markdown",
   "metadata": {},
   "source": [
    "## Sample Modle 2 Header"
   ]
  },
  {
   "cell_type": "code",
   "execution_count": 6,
   "metadata": {},
   "outputs": [],
   "source": [
    "# model 2 code block"
   ]
  }
 ],
 "metadata": {
  "kernelspec": {
   "display_name": "Python 3",
   "language": "python",
   "name": "python3"
  },
  "language_info": {
   "codemirror_mode": {
    "name": "ipython",
    "version": 3
   },
   "file_extension": ".py",
   "mimetype": "text/x-python",
   "name": "python",
   "nbconvert_exporter": "python",
   "pygments_lexer": "ipython3",
   "version": "3.11.0"
  }
 },
 "nbformat": 4,
 "nbformat_minor": 2
}
