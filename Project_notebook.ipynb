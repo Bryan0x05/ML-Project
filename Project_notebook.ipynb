{
 "cells": [
  {
   "cell_type": "markdown",
   "metadata": {},
   "source": [
    "# Libaries and Tools\n",
    "All libraries and tools loaded in one convivent code block to make the following code blocks plug and play(save for the feature extraction block)."
   ]
  },
  {
   "cell_type": "code",
   "execution_count": 4,
   "metadata": {},
   "outputs": [],
   "source": [
    "#TODO: Added libaries and tools\n",
    "import numpy as np # for handling numbers\n",
    "import pandas as pd # for handling spreadsheet data\n",
    "import os # to retrive data-set files\n",
    "import cv2 # computer vision for extracting features from images"
   ]
  },
  {
   "cell_type": "markdown",
   "metadata": {},
   "source": [
    "# Feature Extraction and Processing\n",
    "This puts the data in a pandas dataframe data type making it accessible for all models.\n",
    "The data will be stored in seperate train and test data sets. "
   ]
  },
  {
   "cell_type": "code",
   "execution_count": 37,
   "metadata": {},
   "outputs": [
    {
     "data": {
      "text/html": [
       "<div>\n",
       "<style scoped>\n",
       "    .dataframe tbody tr th:only-of-type {\n",
       "        vertical-align: middle;\n",
       "    }\n",
       "\n",
       "    .dataframe tbody tr th {\n",
       "        vertical-align: top;\n",
       "    }\n",
       "\n",
       "    .dataframe thead th {\n",
       "        text-align: right;\n",
       "    }\n",
       "</style>\n",
       "<table border=\"1\" class=\"dataframe\">\n",
       "  <thead>\n",
       "    <tr style=\"text-align: right;\">\n",
       "      <th></th>\n",
       "      <th>image</th>\n",
       "      <th>label</th>\n",
       "      <th>features</th>\n",
       "    </tr>\n",
       "  </thead>\n",
       "  <tbody>\n",
       "    <tr>\n",
       "      <th>0</th>\n",
       "      <td>c:\\Users\\HP\\Documents\\GitHub\\ML-Project\\train\\...</td>\n",
       "      <td>REAL</td>\n",
       "      <td>[179, 169, 169, 148, 138, 138, 105, 93, 91, 10...</td>\n",
       "    </tr>\n",
       "    <tr>\n",
       "      <th>1</th>\n",
       "      <td>c:\\Users\\HP\\Documents\\GitHub\\ML-Project\\train\\...</td>\n",
       "      <td>REAL</td>\n",
       "      <td>[192, 180, 168, 200, 186, 174, 207, 191, 178, ...</td>\n",
       "    </tr>\n",
       "    <tr>\n",
       "      <th>2</th>\n",
       "      <td>c:\\Users\\HP\\Documents\\GitHub\\ML-Project\\train\\...</td>\n",
       "      <td>REAL</td>\n",
       "      <td>[102, 195, 150, 58, 147, 103, 74, 151, 113, 10...</td>\n",
       "    </tr>\n",
       "    <tr>\n",
       "      <th>3</th>\n",
       "      <td>c:\\Users\\HP\\Documents\\GitHub\\ML-Project\\train\\...</td>\n",
       "      <td>REAL</td>\n",
       "      <td>[122, 126, 131, 103, 107, 112, 91, 92, 96, 89,...</td>\n",
       "    </tr>\n",
       "    <tr>\n",
       "      <th>4</th>\n",
       "      <td>c:\\Users\\HP\\Documents\\GitHub\\ML-Project\\train\\...</td>\n",
       "      <td>REAL</td>\n",
       "      <td>[11, 34, 36, 9, 32, 34, 8, 31, 33, 12, 35, 37,...</td>\n",
       "    </tr>\n",
       "    <tr>\n",
       "      <th>5</th>\n",
       "      <td>c:\\Users\\HP\\Documents\\GitHub\\ML-Project\\train\\...</td>\n",
       "      <td>REAL</td>\n",
       "      <td>[14, 23, 50, 14, 22, 45, 16, 17, 37, 16, 16, 2...</td>\n",
       "    </tr>\n",
       "    <tr>\n",
       "      <th>6</th>\n",
       "      <td>c:\\Users\\HP\\Documents\\GitHub\\ML-Project\\train\\...</td>\n",
       "      <td>REAL</td>\n",
       "      <td>[67, 62, 61, 45, 44, 48, 33, 42, 56, 38, 55, 8...</td>\n",
       "    </tr>\n",
       "    <tr>\n",
       "      <th>7</th>\n",
       "      <td>c:\\Users\\HP\\Documents\\GitHub\\ML-Project\\train\\...</td>\n",
       "      <td>REAL</td>\n",
       "      <td>[41, 35, 30, 43, 36, 27, 55, 47, 34, 72, 65, 4...</td>\n",
       "    </tr>\n",
       "    <tr>\n",
       "      <th>8</th>\n",
       "      <td>c:\\Users\\HP\\Documents\\GitHub\\ML-Project\\train\\...</td>\n",
       "      <td>REAL</td>\n",
       "      <td>[230, 194, 134, 224, 188, 128, 219, 182, 124, ...</td>\n",
       "    </tr>\n",
       "    <tr>\n",
       "      <th>9</th>\n",
       "      <td>c:\\Users\\HP\\Documents\\GitHub\\ML-Project\\train\\...</td>\n",
       "      <td>REAL</td>\n",
       "      <td>[197, 202, 200, 199, 204, 202, 200, 205, 203, ...</td>\n",
       "    </tr>\n",
       "  </tbody>\n",
       "</table>\n",
       "</div>"
      ],
      "text/plain": [
       "                                               image label  \\\n",
       "0  c:\\Users\\HP\\Documents\\GitHub\\ML-Project\\train\\...  REAL   \n",
       "1  c:\\Users\\HP\\Documents\\GitHub\\ML-Project\\train\\...  REAL   \n",
       "2  c:\\Users\\HP\\Documents\\GitHub\\ML-Project\\train\\...  REAL   \n",
       "3  c:\\Users\\HP\\Documents\\GitHub\\ML-Project\\train\\...  REAL   \n",
       "4  c:\\Users\\HP\\Documents\\GitHub\\ML-Project\\train\\...  REAL   \n",
       "5  c:\\Users\\HP\\Documents\\GitHub\\ML-Project\\train\\...  REAL   \n",
       "6  c:\\Users\\HP\\Documents\\GitHub\\ML-Project\\train\\...  REAL   \n",
       "7  c:\\Users\\HP\\Documents\\GitHub\\ML-Project\\train\\...  REAL   \n",
       "8  c:\\Users\\HP\\Documents\\GitHub\\ML-Project\\train\\...  REAL   \n",
       "9  c:\\Users\\HP\\Documents\\GitHub\\ML-Project\\train\\...  REAL   \n",
       "\n",
       "                                            features  \n",
       "0  [179, 169, 169, 148, 138, 138, 105, 93, 91, 10...  \n",
       "1  [192, 180, 168, 200, 186, 174, 207, 191, 178, ...  \n",
       "2  [102, 195, 150, 58, 147, 103, 74, 151, 113, 10...  \n",
       "3  [122, 126, 131, 103, 107, 112, 91, 92, 96, 89,...  \n",
       "4  [11, 34, 36, 9, 32, 34, 8, 31, 33, 12, 35, 37,...  \n",
       "5  [14, 23, 50, 14, 22, 45, 16, 17, 37, 16, 16, 2...  \n",
       "6  [67, 62, 61, 45, 44, 48, 33, 42, 56, 38, 55, 8...  \n",
       "7  [41, 35, 30, 43, 36, 27, 55, 47, 34, 72, 65, 4...  \n",
       "8  [230, 194, 134, 224, 188, 128, 219, 182, 124, ...  \n",
       "9  [197, 202, 200, 199, 204, 202, 200, 205, 203, ...  "
      ]
     },
     "execution_count": 37,
     "metadata": {},
     "output_type": "execute_result"
    }
   ],
   "source": [
    "# function to load dataset into a data frame\n",
    "# Encaplsated in a function to restrict the scope of variables that will not be needed in\n",
    "# later code blocks.\n",
    "\n",
    "def loadData():\n",
    "    # helper function to fill the data variables with data from images\n",
    "    def fillData(data: dict,dir: str, label:str):\n",
    "        # list of all files in dir\n",
    "        # these values are the image files\n",
    "        list = os.listdir(dir)\n",
    "        # append image paths and labels in data dictionary\n",
    "        for image in list:\n",
    "            absImagePath = os.path.join(dir,image)\n",
    "            data['image'].append(absImagePath)\n",
    "            data['label'].append(label)\n",
    "            fileImage = cv2.imread(absImagePath)\n",
    "            data['features'].append(fileImage.flatten())\n",
    "            \n",
    "    # dictionary to temporary house the data\n",
    "    # image = image path list, label = fake or real\n",
    "    trainData = {'image':[],'label':[], 'features':[]}\n",
    "    testData = {'image':[],'label':[], 'features':[]}\n",
    "   \n",
    "    # Read Train folder & Read test folder\n",
    "    # OS module used to ensure this works on all platforms that python runs on\n",
    "    currentDir = os.getcwd() # get's current directory to later append to image filepath for abs path\n",
    "    trainDirReal = os.path.join(currentDir,\"train\",'REAL') # abs file path to real class folder in training\n",
    "    trainDirFake = os.path.join(currentDir,'train','FAKE')\n",
    "    testDirReal = os.path.join(currentDir,\"test\",'REAL')\n",
    "    testDirFake = os.path.join(currentDir,\"test\",'FAKE')  \n",
    "\n",
    "\n",
    "    # helper function read file list from each folder and append abs path and labels\n",
    "    fillData(trainData,trainDirReal,'REAL')\n",
    "    fillData(trainData,trainDirFake,'FAKE')\n",
    "    fillData(testData,testDirReal,'REAL')\n",
    "    fillData(testData,testDirFake,'FAKE')\n",
    "    \n",
    "    #TODO: Feature extraction\n",
    "    \n",
    "    # converts from dictionary type to dataframe for ease of access and compadability with\n",
    "    # ML library function calls\n",
    "    return pd.DataFrame(trainData), pd.DataFrame(testData)\n",
    "# executes function, returning 2 dataframes containing train and test data of the calsses\n",
    "# Train and test data are seperated into different dataframes to enforce data hygiene \n",
    "trainData,testData = loadData()\n",
    "# test if data was loaded successfully by outputing first 10 entries\n",
    "trainData.head(10)"
   ]
  },
  {
   "cell_type": "markdown",
   "metadata": {},
   "source": [
    "# Exploratory Analysis\n",
    "We can analysis the data set to justify the rationale of certains models. This can be down in the python code block below and even split across blocks."
   ]
  },
  {
   "cell_type": "code",
   "execution_count": 1,
   "metadata": {},
   "outputs": [],
   "source": [
    "# Exploratory Analysis"
   ]
  },
  {
   "cell_type": "markdown",
   "metadata": {},
   "source": [
    "# Models\n",
    "We segment models in different code blocks and clearly label them in markdown and even explain results."
   ]
  },
  {
   "cell_type": "markdown",
   "metadata": {},
   "source": [
    "## Sample Model 1 Header"
   ]
  },
  {
   "cell_type": "code",
   "execution_count": 2,
   "metadata": {},
   "outputs": [],
   "source": [
    "# model 1 code block"
   ]
  },
  {
   "cell_type": "markdown",
   "metadata": {},
   "source": [
    "## Sample Modle 2 Header"
   ]
  },
  {
   "cell_type": "code",
   "execution_count": 3,
   "metadata": {},
   "outputs": [],
   "source": [
    "# model 2 code block"
   ]
  }
 ],
 "metadata": {
  "kernelspec": {
   "display_name": "Python 3",
   "language": "python",
   "name": "python3"
  },
  "language_info": {
   "codemirror_mode": {
    "name": "ipython",
    "version": 3
   },
   "file_extension": ".py",
   "mimetype": "text/x-python",
   "name": "python",
   "nbconvert_exporter": "python",
   "pygments_lexer": "ipython3",
   "version": "3.11.0"
  }
 },
 "nbformat": 4,
 "nbformat_minor": 2
}
