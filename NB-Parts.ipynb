{
 "cells": [
  {
   "cell_type": "markdown",
   "metadata": {},
   "source": [
    "# Naive Bayes"
   ]
  },
  {
   "cell_type": "markdown",
   "metadata": {},
   "source": [
    "## Imports"
   ]
  },
  {
   "cell_type": "code",
   "execution_count": 1,
   "metadata": {},
   "outputs": [
    {
     "ename": "ModuleNotFoundError",
     "evalue": "No module named 'cv2'",
     "output_type": "error",
     "traceback": [
      "\u001b[0;31m---------------------------------------------------------------------------\u001b[0m",
      "\u001b[0;31mModuleNotFoundError\u001b[0m                       Traceback (most recent call last)",
      "Cell \u001b[0;32mIn[1], line 5\u001b[0m\n\u001b[1;32m      3\u001b[0m \u001b[38;5;28;01mimport\u001b[39;00m \u001b[38;5;21;01mpandas\u001b[39;00m \u001b[38;5;28;01mas\u001b[39;00m \u001b[38;5;21;01mpd\u001b[39;00m \u001b[38;5;66;03m# for handling spreadsheet data\u001b[39;00m\n\u001b[1;32m      4\u001b[0m \u001b[38;5;28;01mimport\u001b[39;00m \u001b[38;5;21;01mos\u001b[39;00m \u001b[38;5;66;03m# to retrive data-set files\u001b[39;00m\n\u001b[0;32m----> 5\u001b[0m \u001b[38;5;28;01mimport\u001b[39;00m \u001b[38;5;21;01mcv2\u001b[39;00m \u001b[38;5;66;03m# computer vision for extracting features from images\u001b[39;00m\n",
      "\u001b[0;31mModuleNotFoundError\u001b[0m: No module named 'cv2'"
     ]
    }
   ],
   "source": [
    "#TODO: Added libaries and tools\n",
    "import numpy as np # for handling numbers\n",
    "import pandas as pd # for handling spreadsheet data\n",
    "import os # to retrive data-set files\n",
    "import cv2 # computer vision for extracting features from images"
   ]
  },
  {
   "cell_type": "code",
   "execution_count": null,
   "metadata": {},
   "outputs": [],
   "source": [
    " from sklearn.naive_bayes import GaussianNB"
   ]
  },
  {
   "cell_type": "markdown",
   "metadata": {},
   "source": [
    "## Utility Functions"
   ]
  },
  {
   "cell_type": "code",
   "execution_count": null,
   "metadata": {},
   "outputs": [],
   "source": [
    "# function to load dataset into a data frame\n",
    "# Encaplsated in a function to restrict the scope of variables that will not be needed in\n",
    "# later code blocks.\n",
    "# gray scale flag, by default it's off\n",
    "# ResizeX and ResizeY, fills these to resize image to desired size, if either\n",
    "# is 0 it's assumed to be off\n",
    "def loadData(grayscale:bool = False, resizeX: int = 0, resizeY = 0):\n",
    "    # helper function to fill the data variables with data from images\n",
    "    def fillData(data: dict,dir: str, label:str):\n",
    "        # list of all files in dir\n",
    "        # these values are the image files\n",
    "        list = os.listdir(dir)\n",
    "        # append image paths and labels in data dictionary\n",
    "        for image in list:\n",
    "            absImagePath = os.path.join(dir,image)\n",
    "            data['image'].append(absImagePath)\n",
    "            data['label'].append(label)\n",
    "            fileImage = cv2.imread(absImagePath)\n",
    "            # image gray scale\n",
    "            if(grayscale == True):\n",
    "                fileImage = cv2.cvtColor(fileImage,cv2.COLOR_BGR2GRAY)\n",
    "            if(resizeX > 0 and resizeY > 0):\n",
    "                target_size = (resizeX,resizeY)\n",
    "                fileImage = cv2.resize(fileImage,target_size)\n",
    "            data['features'].append(fileImage.flatten())\n",
    "            \n",
    "    # dictionary to temporary house the data\n",
    "    # image = image path list, label = fake or real\n",
    "    trainData = {'image':[],'label':[], 'features':[]}\n",
    "    testData = {'image':[],'label':[], 'features':[]}\n",
    "   \n",
    "    # Read Train folder & Read test folder\n",
    "    # OS module used to ensure this works on all platforms that python runs on\n",
    "    currentDir = os.getcwd() # get's current directory to later append to image filepath for abs path\n",
    "    trainDirReal = os.path.join(currentDir,\"train\",'REAL') # abs file path to real class folder in training\n",
    "    trainDirFake = os.path.join(currentDir,'train','FAKE')\n",
    "    testDirReal = os.path.join(currentDir,\"test\",'REAL')\n",
    "    testDirFake = os.path.join(currentDir,\"test\",'FAKE')  \n",
    "\n",
    "\n",
    "    # helper function read file list from each folder and append abs path and labels\n",
    "    fillData(trainData,trainDirReal,'REAL')\n",
    "    fillData(trainData,trainDirFake,'FAKE')\n",
    "    fillData(testData,testDirReal,'REAL')\n",
    "    fillData(testData,testDirFake,'FAKE')\n",
    "    \n",
    "    #TODO: Feature extraction\n",
    "    \n",
    "    # converts from dictionary type to dataframe for ease of access and compadability with\n",
    "    # ML library function calls\n",
    "    return pd.DataFrame(trainData), pd.DataFrame(testData)\n"
   ]
  },
  {
   "cell_type": "markdown",
   "metadata": {},
   "source": [
    "## Model"
   ]
  },
  {
   "cell_type": "code",
   "execution_count": null,
   "metadata": {},
   "outputs": [],
   "source": [
    "# executes function, returning 2 dataframes containing train and test data of the calsses\n",
    "# Train and test data are seperated into different dataframes to enforce data hygiene \n",
    "trainData,testData = loadData()\n",
    "# test if data was loaded successfully by outputing first 10 entries\n",
    "trainData.head(10)"
   ]
  }
 ],
 "metadata": {
  "kernelspec": {
   "display_name": "Python 3",
   "language": "python",
   "name": "python3"
  },
  "language_info": {
   "codemirror_mode": {
    "name": "ipython",
    "version": 3
   },
   "file_extension": ".py",
   "mimetype": "text/x-python",
   "name": "python",
   "nbconvert_exporter": "python",
   "pygments_lexer": "ipython3",
   "version": "3.12.1"
  }
 },
 "nbformat": 4,
 "nbformat_minor": 2
}
