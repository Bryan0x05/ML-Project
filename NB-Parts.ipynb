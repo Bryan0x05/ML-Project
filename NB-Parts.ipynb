{
 "cells": [
  {
   "cell_type": "markdown",
   "metadata": {},
   "source": [
    "# Naive Bayes"
   ]
  },
  {
   "cell_type": "markdown",
   "metadata": {},
   "source": [
    "## Imports"
   ]
  },
  {
   "cell_type": "code",
   "execution_count": 26,
   "metadata": {},
   "outputs": [],
   "source": [
    "#TODO: Added libaries and tools\n",
    "import numpy as np # for handling numbers\n",
    "import pandas as pd # for handling spreadsheet data\n",
    "import os # to retrive data-set files\n",
    "import cv2 # computer vision for extracting features from images\n",
    "import seaborn as sns # Visuals"
   ]
  },
  {
   "cell_type": "code",
   "execution_count": 27,
   "metadata": {},
   "outputs": [],
   "source": [
    "# All the Bayes Classifiers! -- What ones was I suggested to use?\n",
    "from sklearn.naive_bayes import GaussianNB\n",
    "#from sklearn.naive_bayes import MultinomialNB\n",
    "#from sklearn.naive_bayes import ComplementNB\n",
    "#from sklearn.naive_bayes import BernoulliNB\n",
    "#from sklearn.naive_bayes import CategoricalNB\n",
    "\n",
    "# Metrics\n",
    "from sklearn.metrics import accuracy_score\n",
    "from sklearn.metrics import confusion_matrix"
   ]
  },
  {
   "cell_type": "markdown",
   "metadata": {},
   "source": [
    "## Utility Functions"
   ]
  },
  {
   "cell_type": "code",
   "execution_count": 32,
   "metadata": {},
   "outputs": [
    {
     "data": {
      "text/html": [
       "<div>\n",
       "<style scoped>\n",
       "    .dataframe tbody tr th:only-of-type {\n",
       "        vertical-align: middle;\n",
       "    }\n",
       "\n",
       "    .dataframe tbody tr th {\n",
       "        vertical-align: top;\n",
       "    }\n",
       "\n",
       "    .dataframe thead th {\n",
       "        text-align: right;\n",
       "    }\n",
       "</style>\n",
       "<table border=\"1\" class=\"dataframe\">\n",
       "  <thead>\n",
       "    <tr style=\"text-align: right;\">\n",
       "      <th></th>\n",
       "      <th>image</th>\n",
       "      <th>label</th>\n",
       "      <th>features</th>\n",
       "    </tr>\n",
       "  </thead>\n",
       "  <tbody>\n",
       "    <tr>\n",
       "      <th>0</th>\n",
       "      <td>/home/mharper/Dropbox/GitHub/ML-Project/train/...</td>\n",
       "      <td>REAL</td>\n",
       "      <td>[[146, 166, 124], [137, 142, 80], [218, 189, 8...</td>\n",
       "    </tr>\n",
       "    <tr>\n",
       "      <th>1</th>\n",
       "      <td>/home/mharper/Dropbox/GitHub/ML-Project/train/...</td>\n",
       "      <td>REAL</td>\n",
       "      <td>[[237, 218, 227], [219, 205, 211], [209, 202, ...</td>\n",
       "    </tr>\n",
       "    <tr>\n",
       "      <th>2</th>\n",
       "      <td>/home/mharper/Dropbox/GitHub/ML-Project/train/...</td>\n",
       "      <td>REAL</td>\n",
       "      <td>[[195, 174, 176], [193, 175, 176], [194, 176, ...</td>\n",
       "    </tr>\n",
       "    <tr>\n",
       "      <th>3</th>\n",
       "      <td>/home/mharper/Dropbox/GitHub/ML-Project/train/...</td>\n",
       "      <td>REAL</td>\n",
       "      <td>[[74, 102, 133], [0, 23, 53], [3, 20, 47], [35...</td>\n",
       "    </tr>\n",
       "    <tr>\n",
       "      <th>4</th>\n",
       "      <td>/home/mharper/Dropbox/GitHub/ML-Project/train/...</td>\n",
       "      <td>REAL</td>\n",
       "      <td>[[181, 165, 152], [182, 166, 153], [183, 167, ...</td>\n",
       "    </tr>\n",
       "    <tr>\n",
       "      <th>5</th>\n",
       "      <td>/home/mharper/Dropbox/GitHub/ML-Project/train/...</td>\n",
       "      <td>REAL</td>\n",
       "      <td>[[56, 37, 29], [48, 31, 22], [81, 63, 56], [17...</td>\n",
       "    </tr>\n",
       "    <tr>\n",
       "      <th>6</th>\n",
       "      <td>/home/mharper/Dropbox/GitHub/ML-Project/train/...</td>\n",
       "      <td>REAL</td>\n",
       "      <td>[[90, 92, 92], [86, 88, 88], [66, 67, 71], [86...</td>\n",
       "    </tr>\n",
       "    <tr>\n",
       "      <th>7</th>\n",
       "      <td>/home/mharper/Dropbox/GitHub/ML-Project/train/...</td>\n",
       "      <td>REAL</td>\n",
       "      <td>[[160, 211, 207], [156, 207, 200], [178, 222, ...</td>\n",
       "    </tr>\n",
       "    <tr>\n",
       "      <th>8</th>\n",
       "      <td>/home/mharper/Dropbox/GitHub/ML-Project/train/...</td>\n",
       "      <td>REAL</td>\n",
       "      <td>[[110, 98, 98], [112, 100, 100], [115, 102, 10...</td>\n",
       "    </tr>\n",
       "    <tr>\n",
       "      <th>9</th>\n",
       "      <td>/home/mharper/Dropbox/GitHub/ML-Project/train/...</td>\n",
       "      <td>REAL</td>\n",
       "      <td>[[252, 252, 255], [250, 253, 255], [243, 251, ...</td>\n",
       "    </tr>\n",
       "  </tbody>\n",
       "</table>\n",
       "</div>"
      ],
      "text/plain": [
       "                                               image label  \\\n",
       "0  /home/mharper/Dropbox/GitHub/ML-Project/train/...  REAL   \n",
       "1  /home/mharper/Dropbox/GitHub/ML-Project/train/...  REAL   \n",
       "2  /home/mharper/Dropbox/GitHub/ML-Project/train/...  REAL   \n",
       "3  /home/mharper/Dropbox/GitHub/ML-Project/train/...  REAL   \n",
       "4  /home/mharper/Dropbox/GitHub/ML-Project/train/...  REAL   \n",
       "5  /home/mharper/Dropbox/GitHub/ML-Project/train/...  REAL   \n",
       "6  /home/mharper/Dropbox/GitHub/ML-Project/train/...  REAL   \n",
       "7  /home/mharper/Dropbox/GitHub/ML-Project/train/...  REAL   \n",
       "8  /home/mharper/Dropbox/GitHub/ML-Project/train/...  REAL   \n",
       "9  /home/mharper/Dropbox/GitHub/ML-Project/train/...  REAL   \n",
       "\n",
       "                                            features  \n",
       "0  [[146, 166, 124], [137, 142, 80], [218, 189, 8...  \n",
       "1  [[237, 218, 227], [219, 205, 211], [209, 202, ...  \n",
       "2  [[195, 174, 176], [193, 175, 176], [194, 176, ...  \n",
       "3  [[74, 102, 133], [0, 23, 53], [3, 20, 47], [35...  \n",
       "4  [[181, 165, 152], [182, 166, 153], [183, 167, ...  \n",
       "5  [[56, 37, 29], [48, 31, 22], [81, 63, 56], [17...  \n",
       "6  [[90, 92, 92], [86, 88, 88], [66, 67, 71], [86...  \n",
       "7  [[160, 211, 207], [156, 207, 200], [178, 222, ...  \n",
       "8  [[110, 98, 98], [112, 100, 100], [115, 102, 10...  \n",
       "9  [[252, 252, 255], [250, 253, 255], [243, 251, ...  "
      ]
     },
     "execution_count": 32,
     "metadata": {},
     "output_type": "execute_result"
    }
   ],
   "source": [
    "# function to load dataset into a data frame\n",
    "# Encaplsated in a function to restrict the scope of variables that will not be needed in\n",
    "# later code blocks.\n",
    "# gray scale flag, by default it's off\n",
    "# ResizeX and ResizeY, fills these to resize image to desired size, if either\n",
    "# is 0 it's assumed to be off\n",
    "def loadData(grayscale:bool = False, resizeX: int = 0, resizeY = 0):\n",
    "    # helper function to fill the data variables with data from images\n",
    "    def fillData(data: dict,dir: str, label:str):\n",
    "        # list of all files in dir\n",
    "        # these values are the image files\n",
    "        list = os.listdir(dir)\n",
    "        # append image paths and labels in data dictionary\n",
    "        for image in list:\n",
    "            absImagePath = os.path.join(dir,image)\n",
    "            data['image'].append(absImagePath)\n",
    "            data['label'].append(label)\n",
    "            fileImage = cv2.imread(absImagePath)\n",
    "            # image gray scale\n",
    "            if(grayscale == True):\n",
    "                fileImage = cv2.cvtColor(fileImage,cv2.COLOR_BGR2GRAY)\n",
    "            if(resizeX > 0 and resizeY > 0):\n",
    "                target_size = (resizeX,resizeY)\n",
    "                fileImage = cv2.resize(fileImage,target_size)\n",
    "            # Bryan Temp\n",
    "            # if it's color mode, reshape into 3-tuples(RGB)\n",
    "            if(grayscale == False):\n",
    "                data['features'].append(fileImage.reshape((-1,3)))\n",
    "            # else if it's gray scale, just flatten it\n",
    "            else: data['features'].append(fileImage.flatten())\n",
    "            \n",
    "    # dictionary to temporary house the data\n",
    "    # image = image path list, label = fake or real\n",
    "    trainData = {'image':[],'label':[], 'features':[]}\n",
    "    testData = {'image':[],'label':[], 'features':[]}\n",
    "   \n",
    "    # Read Train folder & Read test folder\n",
    "    # OS module used to ensure this works on all platforms that python runs on\n",
    "    currentDir = os.getcwd() # get's current directory to later append to image filepath for abs path\n",
    "    trainDirReal = os.path.join(currentDir,\"train\",'REAL') # abs file path to real class folder in training\n",
    "    trainDirFake = os.path.join(currentDir,'train','FAKE')\n",
    "    testDirReal = os.path.join(currentDir,\"test\",'REAL')\n",
    "    testDirFake = os.path.join(currentDir,\"test\",'FAKE')  \n",
    "\n",
    "\n",
    "    # helper function read file list from each folder and append abs path and labels\n",
    "    fillData(trainData,trainDirReal,'REAL')\n",
    "    fillData(trainData,trainDirFake,'FAKE')\n",
    "    fillData(testData,testDirReal,'REAL')\n",
    "    fillData(testData,testDirFake,'FAKE')\n",
    "    \n",
    "    #TODO: Feature extraction\n",
    "    \n",
    "    # converts from dictionary type to dataframe for ease of access and compadability with\n",
    "    # ML library function calls\n",
    "    return pd.DataFrame(trainData), pd.DataFrame(testData)\n",
    "\n",
    "\n",
    "# executes function, returning 2 dataframes containing train and test data of the calsses\n",
    "# Train and test data are seperated into different dataframes to enforce data hygiene \n",
    "trainData_Color,testData_Color = loadData()\n",
    "\n",
    "trainData_Grey,testData_Grey = loadData(grayscale=False) # Need to fix greyscale data\n",
    "\n",
    "# test if data was loaded successfully by outputing first 10 entries\n",
    "trainData_Grey.head(10)"
   ]
  },
  {
   "cell_type": "markdown",
   "metadata": {},
   "source": [
    "## Model"
   ]
  },
  {
   "cell_type": "code",
   "execution_count": 42,
   "metadata": {},
   "outputs": [],
   "source": [
    "\n",
    "# Extraction for Colored Images \n",
    "## Extract for training \n",
    "Y_train_color = np.asarray(trainData_Color['label'].to_list())\n",
    "X_train_color = np.asarray(trainData_Color['features'].to_list())[:, :, 0]\n",
    "## Extract for test \n",
    "Y_test_color = np.asarray(testData_Color['label'].to_list())\n",
    "X_test_color = np.asarray(testData_Color['features'].to_list())[:, :, 0]\n",
    "\n",
    "# Extraction for Grey Scaled Images \n",
    "## Extract for training \n",
    "Y_train_grey = np.asarray(trainData_Grey['label'].to_list())\n",
    "X_train_grey = np.asarray(trainData_Grey['features'].to_list())[:, :, 0]\n",
    "## Extract for test \n",
    "Y_test_grey = np.asarray(testData_Grey['label'].to_list())\n",
    "X_test_grey = np.asarray(testData_Grey['features'].to_list())[:, :, 0]\n",
    "\n",
    "# Create a models\n",
    "## Colored Images  \n",
    "gnb_color = GaussianNB()\n",
    "## GreyScaled images\n",
    "gnb_grey = GaussianNB()\n",
    "\n",
    "\n",
    "# Fit\n",
    "## Colored Images\n",
    "Y_pred_color = gnb_color.fit(X_train_color, Y_train_color).predict(X_test_color)\n",
    "## Greyscaled \n",
    "Y_pred_grey = gnb_grey.fit(X_train_grey, Y_train_grey).predict(X_test_grey)\n",
    "\n",
    "\n",
    "# Calculate Metrics for Colored\n",
    "## Accuracy Score\n",
    "acc_score_colored = accuracy_score(Y_test_color, Y_pred_color)\n",
    "## Confusion Matrix \n",
    "conf_mat_colored = confusion_matrix(Y_test_color, Y_pred_color)\n",
    "\n",
    "# Calculate Metrics for Grey\n",
    "## Accuracy Score\n",
    "acc_score_grey = accuracy_score(Y_test_grey, Y_pred_grey)\n",
    "## Confusion Matrix \n",
    "conf_mat_grey = confusion_matrix(Y_test_grey, Y_pred_grey)"
   ]
  },
  {
   "cell_type": "markdown",
   "metadata": {},
   "source": [
    "## Model Metric Outputs"
   ]
  },
  {
   "cell_type": "markdown",
   "metadata": {},
   "source": [
    "### Colored"
   ]
  },
  {
   "cell_type": "code",
   "execution_count": 43,
   "metadata": {},
   "outputs": [
    {
     "name": "stdout",
     "output_type": "stream",
     "text": [
      "Gaussian Naive Bayes:\n",
      "Number of mislabeled points out of a total 10000 points for Colored Gaussian Naive Bayes: 3956\n",
      "Accuracy Score of Colored Gaussian Naive Bayes: 0.6044\n",
      "[[3078 1922]\n",
      " [2034 2966]]\n"
     ]
    },
    {
     "data": {
      "text/plain": [
       "<Axes: >"
      ]
     },
     "execution_count": 43,
     "metadata": {},
     "output_type": "execute_result"
    },
    {
     "data": {
      "image/png": "[encoded data removed]",
      "text/plain": [
       "<Figure size 640x480 with 2 Axes>"
      ]
     },
     "metadata": {},
     "output_type": "display_data"
    }
   ],
   "source": [
    "# Output Colored\n",
    "print(\"Gaussian Naive Bayes:\")\n",
    "print(\"Number of mislabeled points out of a total %d points for Colored Gaussian Naive Bayes: %d\" % (X_test_color.shape[0], (Y_test_color != Y_pred_color).sum()))\n",
    "print(f\"Accuracy Score of Colored Gaussian Naive Bayes: {acc_score_colored}\")\n",
    "print(conf_mat_colored)\n",
    "\n",
    "\n",
    "## Taken from https://medium.com/@dtuk81/confusion-matrix-visualization-fc31e3f30fea\n",
    "group_names = ['True Neg','False Pos','False Neg','True Pos']\n",
    "group_counts_colored = [\"{0:0.0f}\".format(value) for value in\n",
    "                conf_mat_colored.flatten()]\n",
    "group_percentages_colored = [\"{0:.2%}\".format(value) for value in\n",
    "                     conf_mat_colored.flatten()/np.sum(conf_mat_colored)]\n",
    "labels = [f\"{v1}\\n{v2}\\n{v3}\" for v1, v2, v3 in\n",
    "          zip(group_names,group_counts_colored,group_percentages_colored)]\n",
    "labels = np.asarray(labels).reshape(2,2)\n",
    "\n",
    "## Print the Colored Confusion Matrix\n",
    "sns.heatmap(conf_mat_colored, annot=labels, fmt='', cmap='Blues')"
   ]
  },
  {
   "cell_type": "markdown",
   "metadata": {},
   "source": [
    "### Grey"
   ]
  },
  {
   "cell_type": "code",
   "execution_count": 44,
   "metadata": {},
   "outputs": [
    {
     "name": "stdout",
     "output_type": "stream",
     "text": [
      "Gaussian Naive Bayes:\n",
      "Number of mislabeled points out of a total 10000 points for Colored Gaussian Naive Bayes: 3956\n",
      "Accuracy Score of Colored Gaussian Naive Bayes: 0.6044\n"
     ]
    }
   ],
   "source": [
    "# Output grey\n",
    "print(\"Gaussian Naive Bayes:\")\n",
    "print(\"Number of mislabeled points out of a total %d points for Colored Gaussian Naive Bayes: %d\" % (X_test_grey.shape[0], (Y_test_grey != Y_pred_grey).sum()))\n",
    "print(f\"Accuracy Score of Colored Gaussian Naive Bayes: {acc_score_grey}\")"
   ]
  }
 ],
 "metadata": {
  "kernelspec": {
   "display_name": "Python 3",
   "language": "python",
   "name": "python3"
  },
  "language_info": {
   "codemirror_mode": {
    "name": "ipython",
    "version": 3
   },
   "file_extension": ".py",
   "mimetype": "text/x-python",
   "name": "python",
   "nbconvert_exporter": "python",
   "pygments_lexer": "ipython3",
   "version": "3.12.1"
  }
 },
 "nbformat": 4,
 "nbformat_minor": 2
}
