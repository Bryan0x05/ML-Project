{
 "cells": [
  {
   "cell_type": "markdown",
   "metadata": {},
   "source": [
    "# Naive Bayes"
   ]
  },
  {
   "cell_type": "markdown",
   "metadata": {},
   "source": [
    "## Imports"
   ]
  },
  {
   "cell_type": "code",
   "execution_count": 2,
   "metadata": {},
   "outputs": [],
   "source": [
    "#TODO: Added libaries and tools\n",
    "import numpy as np # for handling numbers\n",
    "import pandas as pd # for handling spreadsheet data\n",
    "import os # to retrive data-set files\n",
    "import cv2 # computer vision for extracting features from images"
   ]
  },
  {
   "cell_type": "code",
   "execution_count": 3,
   "metadata": {},
   "outputs": [],
   "source": [
    "# All the Bayes Classifiers! -- What ones was I suggested to use?\n",
    "from sklearn.naive_bayes import GaussianNB\n",
    "from sklearn.naive_bayes import MultinomialNB\n",
    "from sklearn.naive_bayes import ComplementNB\n",
    "#from sklearn.naive_bayes import BernoulliNB\n",
    "#from sklearn.naive_bayes import CategoricalNB\n",
    "\n"
   ]
  },
  {
   "cell_type": "markdown",
   "metadata": {},
   "source": [
    "## Utility Functions"
   ]
  },
  {
   "cell_type": "code",
   "execution_count": 4,
   "metadata": {},
   "outputs": [
    {
     "data": {
      "text/html": [
       "<div>\n",
       "<style scoped>\n",
       "    .dataframe tbody tr th:only-of-type {\n",
       "        vertical-align: middle;\n",
       "    }\n",
       "\n",
       "    .dataframe tbody tr th {\n",
       "        vertical-align: top;\n",
       "    }\n",
       "\n",
       "    .dataframe thead th {\n",
       "        text-align: right;\n",
       "    }\n",
       "</style>\n",
       "<table border=\"1\" class=\"dataframe\">\n",
       "  <thead>\n",
       "    <tr style=\"text-align: right;\">\n",
       "      <th></th>\n",
       "      <th>image</th>\n",
       "      <th>label</th>\n",
       "      <th>features</th>\n",
       "    </tr>\n",
       "  </thead>\n",
       "  <tbody>\n",
       "    <tr>\n",
       "      <th>0</th>\n",
       "      <td>/home/mharper/Dropbox/GitHub/ML-Project/train/...</td>\n",
       "      <td>REAL</td>\n",
       "      <td>[[146, 166, 124], [137, 142, 80], [218, 189, 8...</td>\n",
       "    </tr>\n",
       "    <tr>\n",
       "      <th>1</th>\n",
       "      <td>/home/mharper/Dropbox/GitHub/ML-Project/train/...</td>\n",
       "      <td>REAL</td>\n",
       "      <td>[[237, 218, 227], [219, 205, 211], [209, 202, ...</td>\n",
       "    </tr>\n",
       "    <tr>\n",
       "      <th>2</th>\n",
       "      <td>/home/mharper/Dropbox/GitHub/ML-Project/train/...</td>\n",
       "      <td>REAL</td>\n",
       "      <td>[[195, 174, 176], [193, 175, 176], [194, 176, ...</td>\n",
       "    </tr>\n",
       "    <tr>\n",
       "      <th>3</th>\n",
       "      <td>/home/mharper/Dropbox/GitHub/ML-Project/train/...</td>\n",
       "      <td>REAL</td>\n",
       "      <td>[[74, 102, 133], [0, 23, 53], [3, 20, 47], [35...</td>\n",
       "    </tr>\n",
       "    <tr>\n",
       "      <th>4</th>\n",
       "      <td>/home/mharper/Dropbox/GitHub/ML-Project/train/...</td>\n",
       "      <td>REAL</td>\n",
       "      <td>[[181, 165, 152], [182, 166, 153], [183, 167, ...</td>\n",
       "    </tr>\n",
       "    <tr>\n",
       "      <th>5</th>\n",
       "      <td>/home/mharper/Dropbox/GitHub/ML-Project/train/...</td>\n",
       "      <td>REAL</td>\n",
       "      <td>[[56, 37, 29], [48, 31, 22], [81, 63, 56], [17...</td>\n",
       "    </tr>\n",
       "    <tr>\n",
       "      <th>6</th>\n",
       "      <td>/home/mharper/Dropbox/GitHub/ML-Project/train/...</td>\n",
       "      <td>REAL</td>\n",
       "      <td>[[90, 92, 92], [86, 88, 88], [66, 67, 71], [86...</td>\n",
       "    </tr>\n",
       "    <tr>\n",
       "      <th>7</th>\n",
       "      <td>/home/mharper/Dropbox/GitHub/ML-Project/train/...</td>\n",
       "      <td>REAL</td>\n",
       "      <td>[[160, 211, 207], [156, 207, 200], [178, 222, ...</td>\n",
       "    </tr>\n",
       "    <tr>\n",
       "      <th>8</th>\n",
       "      <td>/home/mharper/Dropbox/GitHub/ML-Project/train/...</td>\n",
       "      <td>REAL</td>\n",
       "      <td>[[110, 98, 98], [112, 100, 100], [115, 102, 10...</td>\n",
       "    </tr>\n",
       "    <tr>\n",
       "      <th>9</th>\n",
       "      <td>/home/mharper/Dropbox/GitHub/ML-Project/train/...</td>\n",
       "      <td>REAL</td>\n",
       "      <td>[[252, 252, 255], [250, 253, 255], [243, 251, ...</td>\n",
       "    </tr>\n",
       "  </tbody>\n",
       "</table>\n",
       "</div>"
      ],
      "text/plain": [
       "                                               image label  \\\n",
       "0  /home/mharper/Dropbox/GitHub/ML-Project/train/...  REAL   \n",
       "1  /home/mharper/Dropbox/GitHub/ML-Project/train/...  REAL   \n",
       "2  /home/mharper/Dropbox/GitHub/ML-Project/train/...  REAL   \n",
       "3  /home/mharper/Dropbox/GitHub/ML-Project/train/...  REAL   \n",
       "4  /home/mharper/Dropbox/GitHub/ML-Project/train/...  REAL   \n",
       "5  /home/mharper/Dropbox/GitHub/ML-Project/train/...  REAL   \n",
       "6  /home/mharper/Dropbox/GitHub/ML-Project/train/...  REAL   \n",
       "7  /home/mharper/Dropbox/GitHub/ML-Project/train/...  REAL   \n",
       "8  /home/mharper/Dropbox/GitHub/ML-Project/train/...  REAL   \n",
       "9  /home/mharper/Dropbox/GitHub/ML-Project/train/...  REAL   \n",
       "\n",
       "                                            features  \n",
       "0  [[146, 166, 124], [137, 142, 80], [218, 189, 8...  \n",
       "1  [[237, 218, 227], [219, 205, 211], [209, 202, ...  \n",
       "2  [[195, 174, 176], [193, 175, 176], [194, 176, ...  \n",
       "3  [[74, 102, 133], [0, 23, 53], [3, 20, 47], [35...  \n",
       "4  [[181, 165, 152], [182, 166, 153], [183, 167, ...  \n",
       "5  [[56, 37, 29], [48, 31, 22], [81, 63, 56], [17...  \n",
       "6  [[90, 92, 92], [86, 88, 88], [66, 67, 71], [86...  \n",
       "7  [[160, 211, 207], [156, 207, 200], [178, 222, ...  \n",
       "8  [[110, 98, 98], [112, 100, 100], [115, 102, 10...  \n",
       "9  [[252, 252, 255], [250, 253, 255], [243, 251, ...  "
      ]
     },
     "execution_count": 4,
     "metadata": {},
     "output_type": "execute_result"
    }
   ],
   "source": [
    "# function to load dataset into a data frame\n",
    "# Encaplsated in a function to restrict the scope of variables that will not be needed in\n",
    "# later code blocks.\n",
    "# gray scale flag, by default it's off\n",
    "# ResizeX and ResizeY, fills these to resize image to desired size, if either\n",
    "# is 0 it's assumed to be off\n",
    "def loadData(grayscale:bool = False, resizeX: int = 0, resizeY = 0):\n",
    "    # helper function to fill the data variables with data from images\n",
    "    def fillData(data: dict,dir: str, label:str):\n",
    "        # list of all files in dir\n",
    "        # these values are the image files\n",
    "        list = os.listdir(dir)\n",
    "        # append image paths and labels in data dictionary\n",
    "        for image in list:\n",
    "            absImagePath = os.path.join(dir,image)\n",
    "            data['image'].append(absImagePath)\n",
    "            data['label'].append(label)\n",
    "            fileImage = cv2.imread(absImagePath)\n",
    "            # image gray scale\n",
    "            if(grayscale == True):\n",
    "                fileImage = cv2.cvtColor(fileImage,cv2.COLOR_BGR2GRAY)\n",
    "            if(resizeX > 0 and resizeY > 0):\n",
    "                target_size = (resizeX,resizeY)\n",
    "                fileImage = cv2.resize(fileImage,target_size)\n",
    "            # Bryan Temp\n",
    "            # if it's color mode, reshape into 3-tuples(RGB)\n",
    "            if(grayscale == False):\n",
    "                data['features'].append(fileImage.reshape((-1,3)))\n",
    "            # else if it's gray scale, just flatten it\n",
    "            else: data['features'].append(fileImage.flatten())\n",
    "            \n",
    "    # dictionary to temporary house the data\n",
    "    # image = image path list, label = fake or real\n",
    "    trainData = {'image':[],'label':[], 'features':[]}\n",
    "    testData = {'image':[],'label':[], 'features':[]}\n",
    "   \n",
    "    # Read Train folder & Read test folder\n",
    "    # OS module used to ensure this works on all platforms that python runs on\n",
    "    currentDir = os.getcwd() # get's current directory to later append to image filepath for abs path\n",
    "    trainDirReal = os.path.join(currentDir,\"train\",'REAL') # abs file path to real class folder in training\n",
    "    trainDirFake = os.path.join(currentDir,'train','FAKE')\n",
    "    testDirReal = os.path.join(currentDir,\"test\",'REAL')\n",
    "    testDirFake = os.path.join(currentDir,\"test\",'FAKE')  \n",
    "\n",
    "\n",
    "    # helper function read file list from each folder and append abs path and labels\n",
    "    fillData(trainData,trainDirReal,'REAL')\n",
    "    fillData(trainData,trainDirFake,'FAKE')\n",
    "    fillData(testData,testDirReal,'REAL')\n",
    "    fillData(testData,testDirFake,'FAKE')\n",
    "    \n",
    "    #TODO: Feature extraction\n",
    "    \n",
    "    # converts from dictionary type to dataframe for ease of access and compadability with\n",
    "    # ML library function calls\n",
    "    return pd.DataFrame(trainData), pd.DataFrame(testData)\n",
    "\n",
    "\n",
    "# executes function, returning 2 dataframes containing train and test data of the calsses\n",
    "# Train and test data are seperated into different dataframes to enforce data hygiene \n",
    "trainData,testData = loadData()\n",
    "# test if data was loaded successfully by outputing first 10 entries\n",
    "trainData.head(10)"
   ]
  },
  {
   "cell_type": "markdown",
   "metadata": {},
   "source": [
    "## Model"
   ]
  },
  {
   "cell_type": "code",
   "execution_count": 16,
   "metadata": {},
   "outputs": [
    {
     "name": "stdout",
     "output_type": "stream",
     "text": [
      "Number of mislabeled points out of a total 10000 points : 3956\n"
     ]
    }
   ],
   "source": [
    "# Extract for training \n",
    "Y_train = np.asarray(trainData['label'].to_list())\n",
    "X_train = np.asarray(trainData['features'].to_list())[:, :, 0]\n",
    "# Extract for test \n",
    "Y_test = np.asarray(testData['label'].to_list())\n",
    "X_test = np.asarray(testData['features'].to_list())[:, :, 0]\n",
    "\n",
    "#Y_test = \n",
    "## Below is the placeholder for the Model\n",
    "# Create a model\n",
    "gnb = GaussianNB()\n",
    "#clf = MultinomialNB()\n",
    "# Fit\n",
    "Y_pred = gnb.fit(X_train, Y_train).predict(X_test)\n",
    "\n",
    "#_train\n",
    "print(\"Number of mislabeled points out of a total %d points : %d\" % (X_test.shape[0], (Y_test != Y_pred).sum()))\n"
   ]
  }
 ],
 "metadata": {
  "kernelspec": {
   "display_name": "Python 3",
   "language": "python",
   "name": "python3"
  },
  "language_info": {
   "codemirror_mode": {
    "name": "ipython",
    "version": 3
   },
   "file_extension": ".py",
   "mimetype": "text/x-python",
   "name": "python",
   "nbconvert_exporter": "python",
   "pygments_lexer": "ipython3",
   "version": "3.12.1"
  }
 },
 "nbformat": 4,
 "nbformat_minor": 2
}
