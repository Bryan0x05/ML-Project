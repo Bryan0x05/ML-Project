{
 "cells": [
  {
   "cell_type": "markdown",
   "metadata": {},
   "source": [
    "# Naive Bayes"
   ]
  },
  {
   "cell_type": "markdown",
   "metadata": {},
   "source": [
    "## Imports"
   ]
  },
  {
   "cell_type": "code",
   "execution_count": 6,
   "metadata": {},
   "outputs": [
    {
     "name": "stderr",
     "output_type": "stream",
     "text": [
      "/tmp/ipykernel_10509/650008938.py:3: DeprecationWarning: \n",
      "Pyarrow will become a required dependency of pandas in the next major release of pandas (pandas 3.0),\n",
      "(to allow more performant data types, such as the Arrow string type, and better interoperability with other libraries)\n",
      "but was not found to be installed on your system.\n",
      "If this would cause problems for you,\n",
      "please provide us feedback at https://github.com/pandas-dev/pandas/issues/54466\n",
      "        \n",
      "  import pandas as pd # for handling spreadsheet data\n"
     ]
    }
   ],
   "source": [
    "#TODO: Added libaries and tools\n",
    "import numpy as np # for handling numbers\n",
    "import pandas as pd # for handling spreadsheet data\n",
    "import os # to retrive data-set files\n",
    "import cv2 # computer vision for extracting features from images"
   ]
  },
  {
   "cell_type": "code",
   "execution_count": 7,
   "metadata": {},
   "outputs": [],
   "source": [
    "# All the Bayes Classifiers! -- What ones was I suggested to use?\n",
    "from sklearn.naive_bayes import GaussianNB\n",
    "from sklearn.naive_bayes import MultinomialNB\n",
    "from sklearn.naive_bayes import ComplementNB\n",
    "#from sklearn.naive_bayes import BernoulliNB\n",
    "#from sklearn.naive_bayes import CategoricalNB\n",
    "\n"
   ]
  },
  {
   "cell_type": "markdown",
   "metadata": {},
   "source": [
    "## Utility Functions"
   ]
  },
  {
   "cell_type": "code",
   "execution_count": 8,
   "metadata": {},
   "outputs": [
    {
     "data": {
      "text/html": [
       "<div>\n",
       "<style scoped>\n",
       "    .dataframe tbody tr th:only-of-type {\n",
       "        vertical-align: middle;\n",
       "    }\n",
       "\n",
       "    .dataframe tbody tr th {\n",
       "        vertical-align: top;\n",
       "    }\n",
       "\n",
       "    .dataframe thead th {\n",
       "        text-align: right;\n",
       "    }\n",
       "</style>\n",
       "<table border=\"1\" class=\"dataframe\">\n",
       "  <thead>\n",
       "    <tr style=\"text-align: right;\">\n",
       "      <th></th>\n",
       "      <th>image</th>\n",
       "      <th>label</th>\n",
       "      <th>features</th>\n",
       "    </tr>\n",
       "  </thead>\n",
       "  <tbody>\n",
       "    <tr>\n",
       "      <th>0</th>\n",
       "      <td>/home/matthew/Local-Git/ML-Project/train/REAL/...</td>\n",
       "      <td>REAL</td>\n",
       "      <td>[[63, 93, 94], [50, 80, 81], [57, 85, 86], [54...</td>\n",
       "    </tr>\n",
       "    <tr>\n",
       "      <th>1</th>\n",
       "      <td>/home/matthew/Local-Git/ML-Project/train/REAL/...</td>\n",
       "      <td>REAL</td>\n",
       "      <td>[[255, 255, 245], [232, 224, 211], [243, 234, ...</td>\n",
       "    </tr>\n",
       "    <tr>\n",
       "      <th>2</th>\n",
       "      <td>/home/matthew/Local-Git/ML-Project/train/REAL/...</td>\n",
       "      <td>REAL</td>\n",
       "      <td>[[192, 253, 255], [191, 252, 255], [192, 250, ...</td>\n",
       "    </tr>\n",
       "    <tr>\n",
       "      <th>3</th>\n",
       "      <td>/home/matthew/Local-Git/ML-Project/train/REAL/...</td>\n",
       "      <td>REAL</td>\n",
       "      <td>[[31, 76, 60], [31, 76, 60], [30, 74, 61], [31...</td>\n",
       "    </tr>\n",
       "    <tr>\n",
       "      <th>4</th>\n",
       "      <td>/home/matthew/Local-Git/ML-Project/train/REAL/...</td>\n",
       "      <td>REAL</td>\n",
       "      <td>[[245, 251, 250], [247, 252, 253], [236, 239, ...</td>\n",
       "    </tr>\n",
       "    <tr>\n",
       "      <th>5</th>\n",
       "      <td>/home/matthew/Local-Git/ML-Project/train/REAL/...</td>\n",
       "      <td>REAL</td>\n",
       "      <td>[[219, 202, 176], [219, 202, 175], [222, 203, ...</td>\n",
       "    </tr>\n",
       "    <tr>\n",
       "      <th>6</th>\n",
       "      <td>/home/matthew/Local-Git/ML-Project/train/REAL/...</td>\n",
       "      <td>REAL</td>\n",
       "      <td>[[151, 143, 180], [107, 99, 136], [131, 124, 1...</td>\n",
       "    </tr>\n",
       "    <tr>\n",
       "      <th>7</th>\n",
       "      <td>/home/matthew/Local-Git/ML-Project/train/REAL/...</td>\n",
       "      <td>REAL</td>\n",
       "      <td>[[27, 66, 50], [28, 66, 48], [42, 78, 61], [68...</td>\n",
       "    </tr>\n",
       "    <tr>\n",
       "      <th>8</th>\n",
       "      <td>/home/matthew/Local-Git/ML-Project/train/REAL/...</td>\n",
       "      <td>REAL</td>\n",
       "      <td>[[21, 0, 0], [19, 0, 0], [27, 7, 6], [14, 0, 0...</td>\n",
       "    </tr>\n",
       "    <tr>\n",
       "      <th>9</th>\n",
       "      <td>/home/matthew/Local-Git/ML-Project/train/REAL/...</td>\n",
       "      <td>REAL</td>\n",
       "      <td>[[222, 216, 205], [212, 206, 195], [215, 206, ...</td>\n",
       "    </tr>\n",
       "  </tbody>\n",
       "</table>\n",
       "</div>"
      ],
      "text/plain": [
       "                                               image label  \\\n",
       "0  /home/matthew/Local-Git/ML-Project/train/REAL/...  REAL   \n",
       "1  /home/matthew/Local-Git/ML-Project/train/REAL/...  REAL   \n",
       "2  /home/matthew/Local-Git/ML-Project/train/REAL/...  REAL   \n",
       "3  /home/matthew/Local-Git/ML-Project/train/REAL/...  REAL   \n",
       "4  /home/matthew/Local-Git/ML-Project/train/REAL/...  REAL   \n",
       "5  /home/matthew/Local-Git/ML-Project/train/REAL/...  REAL   \n",
       "6  /home/matthew/Local-Git/ML-Project/train/REAL/...  REAL   \n",
       "7  /home/matthew/Local-Git/ML-Project/train/REAL/...  REAL   \n",
       "8  /home/matthew/Local-Git/ML-Project/train/REAL/...  REAL   \n",
       "9  /home/matthew/Local-Git/ML-Project/train/REAL/...  REAL   \n",
       "\n",
       "                                            features  \n",
       "0  [[63, 93, 94], [50, 80, 81], [57, 85, 86], [54...  \n",
       "1  [[255, 255, 245], [232, 224, 211], [243, 234, ...  \n",
       "2  [[192, 253, 255], [191, 252, 255], [192, 250, ...  \n",
       "3  [[31, 76, 60], [31, 76, 60], [30, 74, 61], [31...  \n",
       "4  [[245, 251, 250], [247, 252, 253], [236, 239, ...  \n",
       "5  [[219, 202, 176], [219, 202, 175], [222, 203, ...  \n",
       "6  [[151, 143, 180], [107, 99, 136], [131, 124, 1...  \n",
       "7  [[27, 66, 50], [28, 66, 48], [42, 78, 61], [68...  \n",
       "8  [[21, 0, 0], [19, 0, 0], [27, 7, 6], [14, 0, 0...  \n",
       "9  [[222, 216, 205], [212, 206, 195], [215, 206, ...  "
      ]
     },
     "execution_count": 8,
     "metadata": {},
     "output_type": "execute_result"
    }
   ],
   "source": [
    "# function to load dataset into a data frame\n",
    "# Encaplsated in a function to restrict the scope of variables that will not be needed in\n",
    "# later code blocks.\n",
    "# gray scale flag, by default it's off\n",
    "# ResizeX and ResizeY, fills these to resize image to desired size, if either\n",
    "# is 0 it's assumed to be off\n",
    "def loadData(grayscale:bool = False, resizeX: int = 0, resizeY = 0):\n",
    "    # helper function to fill the data variables with data from images\n",
    "    def fillData(data: dict,dir: str, label:str):\n",
    "        # list of all files in dir\n",
    "        # these values are the image files\n",
    "        list = os.listdir(dir)\n",
    "        # append image paths and labels in data dictionary\n",
    "        for image in list:\n",
    "            absImagePath = os.path.join(dir,image)\n",
    "            data['image'].append(absImagePath)\n",
    "            data['label'].append(label)\n",
    "            fileImage = cv2.imread(absImagePath)\n",
    "            # image gray scale\n",
    "            if(grayscale == True):\n",
    "                fileImage = cv2.cvtColor(fileImage,cv2.COLOR_BGR2GRAY)\n",
    "            if(resizeX > 0 and resizeY > 0):\n",
    "                target_size = (resizeX,resizeY)\n",
    "                fileImage = cv2.resize(fileImage,target_size)\n",
    "            # Bryan Temp\n",
    "            # if it's color mode, reshape into 3-tuples(RGB)\n",
    "            if(grayscale == False):\n",
    "                data['features'].append(fileImage.reshape((-1,3)))\n",
    "            # else if it's gray scale, just flatten it\n",
    "            else: data['features'].append(fileImage.flatten())\n",
    "            \n",
    "    # dictionary to temporary house the data\n",
    "    # image = image path list, label = fake or real\n",
    "    trainData = {'image':[],'label':[], 'features':[]}\n",
    "    testData = {'image':[],'label':[], 'features':[]}\n",
    "   \n",
    "    # Read Train folder & Read test folder\n",
    "    # OS module used to ensure this works on all platforms that python runs on\n",
    "    currentDir = os.getcwd() # get's current directory to later append to image filepath for abs path\n",
    "    trainDirReal = os.path.join(currentDir,\"train\",'REAL') # abs file path to real class folder in training\n",
    "    trainDirFake = os.path.join(currentDir,'train','FAKE')\n",
    "    testDirReal = os.path.join(currentDir,\"test\",'REAL')\n",
    "    testDirFake = os.path.join(currentDir,\"test\",'FAKE')  \n",
    "\n",
    "\n",
    "    # helper function read file list from each folder and append abs path and labels\n",
    "    fillData(trainData,trainDirReal,'REAL')\n",
    "    fillData(trainData,trainDirFake,'FAKE')\n",
    "    fillData(testData,testDirReal,'REAL')\n",
    "    fillData(testData,testDirFake,'FAKE')\n",
    "    \n",
    "    #TODO: Feature extraction\n",
    "    \n",
    "    # converts from dictionary type to dataframe for ease of access and compadability with\n",
    "    # ML library function calls\n",
    "    return pd.DataFrame(trainData), pd.DataFrame(testData)\n",
    "\n",
    "\n",
    "# executes function, returning 2 dataframes containing train and test data of the calsses\n",
    "# Train and test data are seperated into different dataframes to enforce data hygiene \n",
    "trainData,testData = loadData()\n",
    "# test if data was loaded successfully by outputing first 10 entries\n",
    "trainData.head(10)"
   ]
  },
  {
   "cell_type": "markdown",
   "metadata": {},
   "source": [
    "## Model"
   ]
  },
  {
   "cell_type": "code",
   "execution_count": 30,
   "metadata": {},
   "outputs": [
    {
     "data": {
      "text/plain": [
       "numpy.ndarray"
      ]
     },
     "execution_count": 30,
     "metadata": {},
     "output_type": "execute_result"
    }
   ],
   "source": [
    "from sklearn.datasets import load_iris\n",
    "from sklearn.model_selection import train_test_split\n",
    "from sklearn.naive_bayes import GaussianNB\n",
    "X, y = load_iris(return_X_y=True)\n",
    "X_train, X_test, y_train, y_test = train_test_split(X, y, test_size=0.5, random_state=0)\n",
    "\n",
    "gnb = GaussianNB()\n",
    "\n",
    "gnb.fit(X_train,y_train)\n",
    "\n",
    "type(X_train)"
   ]
  },
  {
   "cell_type": "code",
   "execution_count": 15,
   "metadata": {},
   "outputs": [
    {
     "data": {
      "text/plain": [
       "(20000,)"
      ]
     },
     "execution_count": 15,
     "metadata": {},
     "output_type": "execute_result"
    }
   ],
   "source": [
    "# Extract for training \n",
    "Y_train = trainData['label'].array.to_numpy()\n",
    "X_train = trainData['features'].array.to_numpy()\n",
    "\n",
    "#Y_test = \n",
    "## Below is the placeholder for the Model\n",
    "# Create a model\n",
    "#gnb = GaussianNB()\n",
    "#clf = MultinomialNB()\n",
    "# Fit\n",
    "#clf.fit(X_train, Y_train)\n",
    "\n",
    "#_train\n",
    "\n",
    "X_train.shape\n"
   ]
  }
 ],
 "metadata": {
  "kernelspec": {
   "display_name": "Python 3",
   "language": "python",
   "name": "python3"
  },
  "language_info": {
   "codemirror_mode": {
    "name": "ipython",
    "version": 3
   },
   "file_extension": ".py",
   "mimetype": "text/x-python",
   "name": "python",
   "nbconvert_exporter": "python",
   "pygments_lexer": "ipython3",
   "version": "3.10.12"
  }
 },
 "nbformat": 4,
 "nbformat_minor": 2
}
